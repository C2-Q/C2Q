{
 "cells": [
  {
   "cell_type": "markdown",
   "metadata": {},
   "source": [
    "The QAOA algorithm had to be modified because of compatibility issues of the qiskit_ibm_runtime Sampler and Estimator with the Helmi backend. The modified code uses manual expectation value calculation using the QUBO. The QAOA code can be found in QAOA/QAOA.py."
   ]
  },
  {
   "cell_type": "markdown",
   "metadata": {},
   "source": [
    "The qaoa_dict_saved dictionary and the counts dictionary can be loaded with this script.\n",
    "\n",
    "qaoa_dict_saved dictionary contains the parameters of the circuit and the expectation value of every iteration. counts dictionary contains the sampled counts of the run."
   ]
  },
  {
   "cell_type": "code",
   "execution_count": 1,
   "metadata": {},
   "outputs": [],
   "source": [
    "import pickle"
   ]
  },
  {
   "cell_type": "code",
   "execution_count": 2,
   "metadata": {},
   "outputs": [],
   "source": [
    "with open('data/qaoa_dict_saved.pkl', 'rb') as f:\n",
    "    qaoa_dict_saved = pickle.load(f)"
   ]
  },
  {
   "cell_type": "code",
   "execution_count": 3,
   "metadata": {},
   "outputs": [
    {
     "data": {
      "text/plain": [
       "{'theta': array([7.44815887, 2.82867477]),\n",
       " 'minimum_objective_value': -0.5280000000000001,\n",
       " 'exp_value_list': [-0.16900000000000004,\n",
       "  -0.17500000000000002,\n",
       "  -0.332,\n",
       "  -0.25999999999999995,\n",
       "  -0.311,\n",
       "  -0.23999999999999994,\n",
       "  -0.344,\n",
       "  -0.32899999999999996,\n",
       "  -0.31700000000000006,\n",
       "  -0.279,\n",
       "  -0.30600000000000005,\n",
       "  -0.29800000000000004,\n",
       "  0.037000000000000026,\n",
       "  0.16500000000000006,\n",
       "  -0.13399999999999995,\n",
       "  -0.06599999999999998,\n",
       "  -0.4289999999999998,\n",
       "  -0.4370000000000001,\n",
       "  -0.455,\n",
       "  -0.4330000000000001,\n",
       "  -0.374,\n",
       "  -0.387,\n",
       "  -0.351,\n",
       "  -0.38,\n",
       "  -0.33199999999999996,\n",
       "  -0.42600000000000005,\n",
       "  -0.20000000000000007,\n",
       "  0.008000000000000007,\n",
       "  -0.48499999999999993,\n",
       "  -0.24100000000000002,\n",
       "  -0.4930000000000001,\n",
       "  -0.365,\n",
       "  -0.35799999999999993,\n",
       "  -0.4210000000000001,\n",
       "  -0.41500000000000004,\n",
       "  -0.4250000000000001,\n",
       "  -0.408,\n",
       "  -0.463,\n",
       "  -0.339,\n",
       "  -0.44699999999999995,\n",
       "  -0.42499999999999993,\n",
       "  -0.099,\n",
       "  -0.0019999999999999463,\n",
       "  0.13499999999999993,\n",
       "  -0.168,\n",
       "  -0.33099999999999996,\n",
       "  -0.357,\n",
       "  -0.426,\n",
       "  -0.42400000000000004,\n",
       "  -0.375,\n",
       "  -0.3879999999999999,\n",
       "  -0.368,\n",
       "  -0.423,\n",
       "  -0.37900000000000006,\n",
       "  -0.381,\n",
       "  -0.3940000000000001,\n",
       "  -0.4609999999999999,\n",
       "  -0.34299999999999997,\n",
       "  -0.279,\n",
       "  -0.33999999999999997,\n",
       "  -0.19399999999999998,\n",
       "  -0.16899999999999998,\n",
       "  -0.1769999999999999,\n",
       "  -0.40299999999999997,\n",
       "  -0.39299999999999996,\n",
       "  -0.38000000000000006,\n",
       "  -0.356,\n",
       "  -0.4229999999999999,\n",
       "  -0.43300000000000016,\n",
       "  -0.39699999999999996,\n",
       "  -0.334,\n",
       "  -0.36199999999999993,\n",
       "  -0.39699999999999996,\n",
       "  -0.33099999999999996,\n",
       "  -0.4350000000000001,\n",
       "  -0.06200000000000002,\n",
       "  0.23,\n",
       "  0.002000000000000113,\n",
       "  -0.12,\n",
       "  -0.4409999999999999,\n",
       "  -0.43799999999999994,\n",
       "  -0.35700000000000004,\n",
       "  -0.5280000000000001,\n",
       "  -0.39099999999999985,\n",
       "  -0.4079999999999999,\n",
       "  -0.42500000000000016,\n",
       "  -0.29499999999999993,\n",
       "  -0.4039999999999999,\n",
       "  -0.395,\n",
       "  -0.467,\n",
       "  -0.371,\n",
       "  -0.264,\n",
       "  -0.46499999999999997,\n",
       "  -0.204,\n",
       "  0.08100000000000002,\n",
       "  -0.3160000000000001,\n",
       "  -0.359,\n",
       "  -0.391,\n",
       "  -0.42899999999999994,\n",
       "  -0.43000000000000005],\n",
       " 'offset': 0.0}"
      ]
     },
     "execution_count": 3,
     "metadata": {},
     "output_type": "execute_result"
    }
   ],
   "source": [
    "qaoa_dict_saved"
   ]
  },
  {
   "cell_type": "code",
   "execution_count": 4,
   "metadata": {},
   "outputs": [],
   "source": [
    "with open('data/qaoa_counts.pkl', 'rb') as f:\n",
    "    counts = pickle.load(f)"
   ]
  },
  {
   "cell_type": "code",
   "execution_count": 5,
   "metadata": {},
   "outputs": [
    {
     "data": {
      "text/plain": [
       "{'0010': 51,\n",
       " '0100': 108,\n",
       " '1000': 85,\n",
       " '0011': 91,\n",
       " '1011': 51,\n",
       " '1001': 111,\n",
       " '0000': 68,\n",
       " '0101': 56,\n",
       " '1101': 64,\n",
       " '0001': 57,\n",
       " '1010': 41,\n",
       " '0110': 51,\n",
       " '0111': 37,\n",
       " '1110': 31,\n",
       " '1100': 79,\n",
       " '1111': 19}"
      ]
     },
     "execution_count": 5,
     "metadata": {},
     "output_type": "execute_result"
    }
   ],
   "source": [
    "counts"
   ]
  },
  {
   "cell_type": "code",
   "execution_count": null,
   "metadata": {},
   "outputs": [],
   "source": []
  }
 ],
 "metadata": {
  "kernelspec": {
   "display_name": "new_qiskit",
   "language": "python",
   "name": "new_qiskit"
  },
  "language_info": {
   "codemirror_mode": {
    "name": "ipython",
    "version": 3
   },
   "file_extension": ".py",
   "mimetype": "text/x-python",
   "name": "python",
   "nbconvert_exporter": "python",
   "pygments_lexer": "ipython3",
   "version": "3.12.7"
  }
 },
 "nbformat": 4,
 "nbformat_minor": 2
}
