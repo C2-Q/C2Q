{
 "cells": [
  {
   "cell_type": "code",
   "execution_count": 92,
   "metadata": {},
   "outputs": [],
   "source": [
    "from qiskit import QuantumCircuit\n",
    "from qiskit.algorithms.minimum_eigensolvers import AdaptVQE, VQE\n",
    "from qiskit.algorithms.optimizers import SLSQP, SPSA, COBYLA\n",
    "from qiskit.primitives import Estimator\n",
    "from qiskit.circuit.library import EvolvedOperatorAnsatz\n",
    "from qiskit.quantum_info import SparsePauliOp\n",
    "\n",
    "from qiskit.opflow import MatrixOp\n",
    "\n",
    "from qiskit.quantum_info.operators import Operator\n",
    "\n",
    "from qiskit.circuit.library import EfficientSU2\n",
    "\n",
    "import networkx as nx\n",
    "import numpy as np"
   ]
  },
  {
   "cell_type": "code",
   "execution_count": 134,
   "metadata": {},
   "outputs": [],
   "source": [
    "def convert_qubo_to_ising(qubo):\n",
    "    # Number of qubits\n",
    "    n = len(qubo)\n",
    "\n",
    "    # Calculate the offset also, this is not important for the optimization\n",
    "    offset = 0\n",
    "    \n",
    "    operator_list = []\n",
    "\n",
    "    for i in range(n):\n",
    "        for j in range(i, n):\n",
    "            # Initialize the Pauli operator with all I's\n",
    "            pauli_operator = list(\"I\"*n)\n",
    "            \n",
    "            if i == j:\n",
    "                pauli_operator[i] = \"Z\"\n",
    "                ising_value = -(1/2)*np.sum(qubo[i])\n",
    "            else:\n",
    "                pauli_operator[i] = \"Z\"\n",
    "                pauli_operator[j] = \"Z\"\n",
    "                ising_value = (1/2)*qubo[i][j]\n",
    "\n",
    "            if not ising_value == 0:\n",
    "                ising_pauli_op = (''.join(pauli_operator), ising_value)\n",
    "                operator_list.append(ising_pauli_op)\n",
    "\n",
    "            offset += (1/2)*qubo[i][j]\n",
    "\n",
    "    operators = SparsePauliOp.from_list(operator_list)\n",
    "\n",
    "    return operators, offset"
   ]
  },
  {
   "cell_type": "code",
   "execution_count": 218,
   "metadata": {},
   "outputs": [],
   "source": [
    "# Define MaxCut problem with an adjacency matrix and turn it into a QUBO matrix\n",
    "\n",
    "adjacency_matrix = [[0, 1, 1, 1, 1, 1],\n",
    "                    [1, 0, 0, 1, 0, 0],\n",
    "                    [1, 0, 0, 1, 0, 0],\n",
    "                    [1, 1, 1, 0, 1, 1],\n",
    "                    [1, 0, 0, 1, 0, 1],\n",
    "                    [1, 0, 0, 1, 1, 0]]\n",
    "\n",
    "#adjacency_matrix = [[0, 1, 1, 1, 1, 1],\n",
    "#                    [1, 0, 1, 1, 1, 1],\n",
    "#                    [1, 1, 0, 1, 1, 1],\n",
    "#                    [1, 1, 1, 0, 1, 1],\n",
    "#                    [1, 1, 1, 1, 0, 1],\n",
    "#                    [1, 1, 1, 1, 1, 0]]\n",
    "\n",
    "#adjacency_matrix = [[0, 1, 0, 1, 0, 0, 0, 0],\n",
    "#                    [1, 0, 1, 1, 0, 0, 0, 0],\n",
    "#                    [0, 1, 0, 0, 0, 0, 1, 0],\n",
    "#                    [1, 1, 0, 0, 0, 1, 0, 0],\n",
    "#                    [0, 0, 0, 0, 0, 1, 0, 0],\n",
    "#                    [0, 0, 0, 1, 1, 0, 0, 0],\n",
    "#                    [0, 0, 1, 0, 0, 0, 0, 1],\n",
    "#                    [0, 0, 0, 0, 0, 0, 1, 0]]\n",
    "\n",
    "#adjacency_matrix = [[0, 1, 1, 1, 1, 1, 1, 1, 1, 1, 1, 1, 1, 1, 1, 1, 1, 1, 1, 1],\n",
    "#                    [1, 0, 1, 1, 1, 1, 1, 1, 1, 1, 1, 1, 1, 1, 1, 1, 1, 1, 1, 1],\n",
    "#                    [1, 1, 0, 1, 1, 1, 1, 1, 1, 1, 1, 1, 1, 1, 1, 1, 1, 1, 1, 1],\n",
    "#                    [1, 1, 1, 0, 1, 1, 1, 1, 1, 1, 1, 1, 1, 1, 1, 1, 1, 1, 1, 1],\n",
    "#                    [1, 1, 1, 1, 0, 1, 1, 1, 1, 1, 1, 1, 1, 1, 1, 1, 1, 1, 1, 1],\n",
    "#                    [1, 1, 1, 1, 1, 0, 1, 1, 1, 1, 1, 1, 1, 1, 1, 1, 1, 1, 1, 1],\n",
    "#                    [1, 1, 1, 1, 1, 1, 0, 1, 1, 1, 1, 1, 1, 1, 1, 1, 1, 1, 1, 1],\n",
    "#                    [1, 1, 1, 1, 1, 1, 1, 0, 1, 1, 1, 1, 1, 1, 1, 1, 1, 1, 1, 1],\n",
    "#                    [1, 1, 1, 1, 1, 1, 1, 1, 0, 1, 1, 1, 1, 1, 1, 1, 1, 1, 1, 1],\n",
    "#                    [1, 1, 1, 1, 1, 1, 1, 1, 1, 0, 1, 1, 1, 1, 1, 1, 1, 1, 1, 1],\n",
    "#                    [1, 1, 1, 1, 1, 1, 1, 1, 1, 1, 0, 1, 1, 1, 1, 1, 1, 1, 1, 1],\n",
    "#                    [1, 1, 1, 1, 1, 1, 1, 1, 1, 1, 1, 0, 1, 1, 1, 1, 1, 1, 1, 1],\n",
    "#                    [1, 1, 1, 1, 1, 1, 1, 1, 1, 1, 1, 1, 0, 1, 1, 1, 1, 1, 1, 1],\n",
    "#                    [1, 1, 1, 1, 1, 1, 1, 1, 1, 1, 1, 1, 1, 0, 1, 1, 1, 1, 1, 1],\n",
    "#                    [1, 1, 1, 1, 1, 1, 1, 1, 1, 1, 1, 1, 1, 1, 0, 1, 1, 1, 1, 1],\n",
    "#                    [1, 1, 1, 1, 1, 1, 1, 1, 1, 1, 1, 1, 1, 1, 1, 0, 1, 1, 1, 1],\n",
    "#                    [1, 1, 1, 1, 1, 1, 1, 1, 1, 1, 1, 1, 1, 1, 1, 1, 0, 1, 1, 1],\n",
    "#                    [1, 1, 1, 1, 1, 1, 1, 1, 1, 1, 1, 1, 1, 1, 1, 1, 1, 0, 1, 1],\n",
    "#                    [1, 1, 1, 1, 1, 1, 1, 1, 1, 1, 1, 1, 1, 1, 1, 1, 1, 1, 0, 1],\n",
    "#                    [1, 1, 1, 1, 1, 1, 1, 1, 1, 1, 1, 1, 1, 1, 1, 1, 1, 1, 1, 0]]\n",
    "\n",
    "graph = nx.Graph()\n",
    "vertex_number = len(adjacency_matrix)\n",
    "vertex_list = []\n",
    "for i in range(vertex_number):\n",
    "    vertex_list.append(i)\n",
    "    for j in range(vertex_number):\n",
    "        if adjacency_matrix[i][j] == 1:\n",
    "            graph.add_edge(i, j)\n",
    "\n",
    "num_nodes = graph.number_of_nodes()\n",
    "Q = np.eye(num_nodes)\n",
    "\n",
    "for i in range(len(adjacency_matrix[0])):\n",
    "    sum = 0\n",
    "    for j in range(len(adjacency_matrix[0])):\n",
    "        sum = sum + adjacency_matrix[i][j]\n",
    "        if adjacency_matrix[i][j] == 1 and not i == j:\n",
    "            Q[i][j] = 1\n",
    "    Q[i][i] = -sum"
   ]
  },
  {
   "cell_type": "code",
   "execution_count": 219,
   "metadata": {},
   "outputs": [],
   "source": [
    "ansatz = EfficientSU2(len(Q))"
   ]
  },
  {
   "cell_type": "code",
   "execution_count": 221,
   "metadata": {},
   "outputs": [],
   "source": [
    "hamiltonian, offset = convert_qubo_to_ising(Q)"
   ]
  },
  {
   "cell_type": "code",
   "execution_count": 222,
   "metadata": {},
   "outputs": [],
   "source": [
    "vqe = VQE(Estimator(), ansatz, SLSQP())\n",
    "vqe_result = vqe.compute_minimum_eigenvalue(hamiltonian)"
   ]
  },
  {
   "cell_type": "code",
   "execution_count": 223,
   "metadata": {},
   "outputs": [
    {
     "name": "stdout",
     "output_type": "stream",
     "text": [
      "Result: -6.999997728825831\n"
     ]
    }
   ],
   "source": [
    "print('Result:', vqe_result.eigenvalue + offset)"
   ]
  },
  {
   "cell_type": "code",
   "execution_count": null,
   "metadata": {},
   "outputs": [],
   "source": []
  }
 ],
 "metadata": {
  "kernelspec": {
   "display_name": "olderqiskit",
   "language": "python",
   "name": "olderqiskit"
  },
  "language_info": {
   "codemirror_mode": {
    "name": "ipython",
    "version": 3
   },
   "file_extension": ".py",
   "mimetype": "text/x-python",
   "name": "python",
   "nbconvert_exporter": "python",
   "pygments_lexer": "ipython3",
   "version": "3.12.6"
  }
 },
 "nbformat": 4,
 "nbformat_minor": 2
}
